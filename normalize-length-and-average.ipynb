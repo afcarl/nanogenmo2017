{
 "cells": [
  {
   "cell_type": "markdown",
   "metadata": {},
   "source": [
    "# The Average Novel\n",
    "\n",
    "[Allison Parrish](http://www.decontextualize.com/)\n",
    "\n",
    "This is my project for [NaNoGenmo 2017](https://github.com/NaNoGenMo/2017/).\n",
    "\n",
    "What I did: I took every novel in [Project Gutenberg](http://www.gutenberg.org/), converted them to arrays of word vectors, normalized their lengths to exactly 50000 (the minimum length for a qualifying NaNoGenMo novel), averaged the arrays, and then found the nearest word for each of the vectors in the resulting array. The result: *The Average Novel.*\n",
    "\n",
    "This didn't result in something that I liked, but it's worth documenting the attempt as a guide for future research.\n",
    "\n",
    "## Step one: Get a bunch of novels\n",
    "\n",
    "The `gutenfetch` module here uses my idiosyncratic/undocumented dump of Project Gutenberg (contact me for more info), plus a JSON metadata file, to get metadata and text for items from the Project Gutenberg corpus. Here I'm using it to get only items with 'fiction' in a subject identifier that also labelled as being written in English."
   ]
  },
  {
   "cell_type": "code",
   "execution_count": 1,
   "metadata": {},
   "outputs": [],
   "source": [
    "import gutenfetch"
   ]
  },
  {
   "cell_type": "code",
   "execution_count": 2,
   "metadata": {},
   "outputs": [],
   "source": [
    "novels = gutenfetch.search(lambda x: any(['fiction' in t['identifier'].lower() \\\n",
    "    for t in x['subjects']]) and x['language'] == 'en')"
   ]
  },
  {
   "cell_type": "markdown",
   "metadata": {},
   "source": [
    "How many texts is that?"
   ]
  },
  {
   "cell_type": "code",
   "execution_count": 3,
   "metadata": {},
   "outputs": [
    {
     "data": {
      "text/plain": [
       "11781"
      ]
     },
     "execution_count": 3,
     "metadata": {},
     "output_type": "execute_result"
    }
   ],
   "source": [
    "len(novels)"
   ]
  },
  {
   "cell_type": "markdown",
   "metadata": {},
   "source": [
    "Here's what the metadata looks like for one..."
   ]
  },
  {
   "cell_type": "code",
   "execution_count": 12,
   "metadata": {
    "scrolled": true
   },
   "outputs": [
    {
     "data": {
      "text/plain": [
       "{'audience': 'Adult',\n",
       " 'authors': [{'display_name': 'Nathaniel Hawthorne',\n",
       "   'family_name': 'Hawthorne',\n",
       "   'lc': 'n79007728',\n",
       "   'sort_name': 'Hawthorne, Nathaniel',\n",
       "   'viaf': '44435463',\n",
       "   'wikipedia_name': 'Nathaniel_Hawthorne'}],\n",
       " 'fiction': True,\n",
       " 'gutenberg_id': 2181,\n",
       " 'language': 'en',\n",
       " 'medium': 'Book',\n",
       " 'sort_title': 'Marble Faun; Or, The Romance of Monte Beni - Volume 1, The',\n",
       " 'subjects': [{'fiction': True,\n",
       "   'identifier': 'Nobility -- Fiction',\n",
       "   'type': 'LCSH'},\n",
       "  {'fiction': True, 'identifier': 'Murder -- Fiction', 'type': 'LCSH'},\n",
       "  {'fiction': True,\n",
       "   'identifier': 'Love stories',\n",
       "   'name': 'Love stories',\n",
       "   'type': 'LCSH'},\n",
       "  {'fiction': True,\n",
       "   'identifier': 'Women art students -- Fiction',\n",
       "   'type': 'LCSH'},\n",
       "  {'fiction': True, 'identifier': 'Rome (Italy) -- Fiction', 'type': 'LCSH'},\n",
       "  {'fiction': True, 'identifier': 'Artists -- Fiction', 'type': 'LCSH'},\n",
       "  {'audience': 'Adult',\n",
       "   'fiction': True,\n",
       "   'identifier': 'PS',\n",
       "   'name': 'American literature',\n",
       "   'type': 'LCC'},\n",
       "  {'fiction': True,\n",
       "   'identifier': 'Psychological fiction',\n",
       "   'name': 'Psychological fiction',\n",
       "   'type': 'LCSH'},\n",
       "  {'fiction': True,\n",
       "   'identifier': 'Americans -- Italy -- Fiction',\n",
       "   'type': 'LCSH'}],\n",
       " 'title': 'The Marble Faun; Or, The Romance of Monte Beni - Volume 1',\n",
       " 'work_id': '949ba27a-7ed3-8adc-06af-5f93381b3abd'}"
      ]
     },
     "execution_count": 12,
     "metadata": {},
     "output_type": "execute_result"
    }
   ],
   "source": [
    "novels[999]"
   ]
  },
  {
   "cell_type": "markdown",
   "metadata": {},
   "source": [
    "## Step two: Vectorize and zoom\n",
    "\n",
    "In a separate step, I extracted every sentence from each of the novels matched with the above search and used gensim's Word2Vec implementation (using the default settings) to train word vectors on those sentences. [You can download the pre-trained vectors here.](https://s3.amazonaws.com/aparrish/novel-vectors-word2vec.gz) (The file is around 200MB and contains the vectors in the standard Word2Vec format: plain text, count and dimensionality on first line, word and vector values on subsequent lines.)\n",
    "\n",
    "If you're interested in the corpus of every sentence from these novels, let me know and I can send you a link. (It's about 34 million sentences, 1.2GB.)\n",
    "\n",
    "Below, I load the pre-trained vectors."
   ]
  },
  {
   "cell_type": "code",
   "execution_count": 10,
   "metadata": {},
   "outputs": [],
   "source": [
    "import gensim\n",
    "import nltk\n",
    "import numpy as np"
   ]
  },
  {
   "cell_type": "code",
   "execution_count": 11,
   "metadata": {},
   "outputs": [],
   "source": [
    "w2v = gensim.models.Word2Vec.load(\"/gutenberg/streams/novel-vectors\")"
   ]
  },
  {
   "cell_type": "markdown",
   "metadata": {},
   "source": [
    "Here's what vectorization looks like. First, parse a text into words (using NLTK's `word_tokenize` function)..."
   ]
  },
  {
   "cell_type": "code",
   "execution_count": 15,
   "metadata": {},
   "outputs": [],
   "source": [
    "text = nltk.word_tokenize(gutenfetch.get_tar_text(novels[15]['gutenberg_id']))"
   ]
  },
  {
   "cell_type": "markdown",
   "metadata": {},
   "source": [
    "Then fetch the vector for the associated word, creating a new numpy array with the result. If for some reason the word isn't in the pre-trained vectors, I decided to just put in zeroes (with the hope that this would \"come out in the wash\")."
   ]
  },
  {
   "cell_type": "code",
   "execution_count": 18,
   "metadata": {},
   "outputs": [],
   "source": [
    "vec = np.array([w2v.wv[tok] if tok in w2v.wv else np.zeros(100) for tok in text])"
   ]
  },
  {
   "cell_type": "markdown",
   "metadata": {},
   "source": [
    "The shape of the resulting vector:"
   ]
  },
  {
   "cell_type": "code",
   "execution_count": 19,
   "metadata": {},
   "outputs": [
    {
     "data": {
      "text/plain": [
       "(96089, 100)"
      ]
     },
     "execution_count": 19,
     "metadata": {},
     "output_type": "execute_result"
    }
   ],
   "source": [
    "vec.shape"
   ]
  },
  {
   "cell_type": "markdown",
   "metadata": {},
   "source": [
    "Using scipy's `zoom` function, we can \"zoom\" this array such that it has an arbitrary length. (The `zoom` function interpolates the values, so when reducing the length of the text this should yield \"smooth\" semantic transitions between words.)"
   ]
  },
  {
   "cell_type": "code",
   "execution_count": 20,
   "metadata": {},
   "outputs": [],
   "source": [
    "from scipy.ndimage import zoom"
   ]
  },
  {
   "cell_type": "code",
   "execution_count": 21,
   "metadata": {},
   "outputs": [],
   "source": [
    "length_normalized = zoom(vec, (50000 / vec.shape[0], 1))"
   ]
  },
  {
   "cell_type": "markdown",
   "metadata": {},
   "source": [
    "Finding the nearest word for the resulting vectors in this resampled text gives us a weird \"clipped\" version of *Anne of the Island*:"
   ]
  },
  {
   "cell_type": "code",
   "execution_count": 24,
   "metadata": {
    "scrolled": false
   },
   "outputs": [
    {
     "data": {
      "text/plain": [
       "\"Produced Charles and Widger of ISLAND by Maud to the all the who `` more about All things late those seek them forth For in works Fate And the from worth -- Table of I Shadow Change . . . . . . . . 14 of Autumn . . . . . . . . 23 III Farewell . . . . . . . . 36 April Lady . . . . . . . . . . 46 Letters Home . . . . . . . . . 67 In Park . . . . . . . . . . . VII Again . . . . . . . . . . . VIII 's First . . . . . . . . IX An and Welcome Friend . . . X 's . . . . . . . . . . XI The of . . . . . . . . . XII `` 's '' . . . . . . . . XIII Way . . . . . . . . The . . . . . . . . . . . XV A Turned Down . . . . . . XVI anti-Administration . . . . . . . XVII A from . . . . . . . . . XVIII Josephine the . . . . An . . . . . . . . . . . Gilbert . . . . . . . . . . XXI of . . . . . . . . . XXII and Return Green . . . . XXIII Can Find Rock . . . . . XXIV Jonas . . . . . . . . . . . XLIII Charming . . . . . . . . XXVI Christine . . . . . . . . . XXIII Mutual . . . . . . . . . XXVIII June . . . . . . . . . . XXIX 's . . . . . . . . . . XXX Skinner Romance . . . . . . . XXXI to Philippa . . . . . . . . . Tea Mrs. Douglas . . . . . . . . `` Just Coming Coming '' . . . . XXXIX John Speaks Last . . . . . . XXXV The Redmond Opens . . . . . . attorney-in-fact The ' . . . . . . . . . XXXVII 's . . . . . . . . . False . . . . . . . . . . . XXXIX with . . . . . . . . . XL Book of . . . . . . . . XLI Takes the of . . . . . . CHIEF the by Maud Chapter The of '' is ended summer gone '' Anne , across shorn dreamily She Diana had picking apples the orchard , were resting their in sunny , airy of drifted on wings of wind was with the of in Haunted . everything in landscape them of . sea roaring in distance the were and , with golden , brook below Gables with of purple and Lake Shining was -- blue blue not changeful of , the azure summer but clear steadfast serene blue as the were all and of and settled to a by dreams . It been nice , said , the ring her hand a smile `` Miss 's seemed come a of to . suppose and Mrs. are the coast . `` seems me have gone enough go around world sighed Anne `` ca believe is a since were . has changed Miss Mr. and Allan -- lonely manse with shutters closed I past last night and made feel if in had . `` 'll get minister nice as Allan '' Diana with conviction `` suppose 'll all of this winter half Sundays no at . you Gilbert -- will awfully . `` will be , insinuated slyly `` is Lynde to up '' Monica as if had heard 's . Tomorrow I glad 's -- it be change . and cleared out the room . you , hated do ? Course it was -- it seem if were sacrilege That spare has seemed a shrine me When was child thought the wonderful in world You what a desire had sleep a room -- not Green spare . Oh no never ! would been terrible I n't slept wink awe I never through room sent me on errand no indeed I through and my breath if were in , felt when got of . pictures George and Duke of hung , on side the , frowned sternly me the I in especially if dared in mirror which the one the that n't my face little I wondered Marilla that room And it not cleaned stripped . George the Duke been to upstairs . passes glory this , '' Anne with laugh in there a note regret It never to our shrines , when we outgrown . I be lonesome you , moaned for hundredth time And to you next ! `` we together , said cheerily `` Must n't next rob of week joy I the of myself home I are friends . of lonesome It I should . 'LL here any of my friends AND ! I be among , knowing soul '' `` -- AND Sloane '' Diana imitating italics slyness `` Sloane be great comfort course '' agreed sarcastically whereupon those damsels . knew what thought Charlie ; but despite confidential , did know what thought Gilbert . be , herself didn't know . The may boarding the end of for I , Anne went `` I glad 'm to , I sure shall it a while For the few I I n't I n't have\""
      ]
     },
     "execution_count": 24,
     "metadata": {},
     "output_type": "execute_result"
    }
   ],
   "source": [
    "' '.join([w2v.similar_by_vector(w)[0][0] for w in length_normalized[:1000]])"
   ]
  },
  {
   "cell_type": "markdown",
   "metadata": {},
   "source": [
    "## Step 3: Average\n",
    "\n",
    "So, easy enough with one text. The following cell performs the same step for *every* text in the corpus. At each step, the numpy array for the text (which should be of shape `(50000, 100)` after being resized) is added to `total`, which at the end of the loop will contain the sum of the array for every length-normalize novel. In this version, I include only words consisting entirely of alphabetic characters, which helps to ensure that the output consists of words and not just a bunch of punctuation (as with an earlier version of the output that I posted).\n",
    "\n",
    "The cell below will take some time to complete! (Around eight hours on my t2.large EC2 instance.)"
   ]
  },
  {
   "cell_type": "code",
   "execution_count": 31,
   "metadata": {},
   "outputs": [
    {
     "name": "stdout",
     "output_type": "stream",
     "text": [
      "0 Moby Dick; Or, The Whale /"
     ]
    },
    {
     "name": "stderr",
     "output_type": "stream",
     "text": [
      "/usr/local/lib64/python3.6/site-packages/scipy/ndimage/interpolation.py:616: UserWarning: From scipy 0.13.0, the output shape of zoom() is calculated with round() instead of int() - for these inputs the size of the returned array has changed.\n",
      "  \"the returned array has changed.\", UserWarning)\n"
     ]
    },
    {
     "name": "stdout",
     "output_type": "stream",
     "text": [
      "25 The Adventures of Huckleberry Finn (Tom Sawyer's Comrade) /50 Tess of the d'Urbervilles: A Pure Woman /75 The Lost Continent /100 Uncle Tom's Cabin /125 Black Beauty - The Autobiography of a Horse /150 Moran of the Lady Letty /175 The Mad King /200 The Magic of Oz /225 The White People /250 Rebecca of Sunnybrook Farm /275 Jean of the Lazy A /300 The Woman in White /325 The Cricket on the Hearth /350 Burning Daylight /375 This Side of Paradise /400 Reprinted Pieces /425 Tom Swift and His Submarine Boat; Or, Under the Ocean for Sunken Treasure /450 Malbone: An Oldport Romance /475 The Mirror of Kong Ho /500 Fire-Tongue /525 South Sea Tales /550 The Heritage of the Desert: A Novel /575 The Ball at Sceaux /600 Tom Swift and His Undersea Search; Or, the Treasure on the Floor of the Atlantic /625 A Start in Life /650 Juana /675 Chance: A Tale in Two Parts /700 The Amazing Interlude /725 Little Novels /750 Honorine /775 Finished /800 The Lost House /825 The Case of the Pool of Blood in the Pastor's Study /850 The Red House Mystery /875 The Muse of the Department /900 A Woman of Thirty /925 We Two: A Novel /950 The Trail of the White Mule /975 Strictly Business: More Stories of the Four Million /1000 The Marble Faun; Or, The Romance of Monte Beni - Volume 2 /1025 Devil's Ford /1050 The Adventure of the Red Circle /1075 The Voice /1100 The Silent Bullet /1125 Our Village /1150 Hopalong Cassidy's Rustler Round-Up; Or, Bar-20 /1175 Legends and Tales /1200 Ten Years Later /1225 The Real Thing /1250 Joan of Naples /1275 Jewel: A Chapter in Her Life /1300 Sintram and His Companions /1325 Windsor Castle /1350 Pointed Roofs: Pilgrimage, Volume 1 /1375 A Little Journey in the World /1400 The Mysterious Stranger /1425 Cy Whittaker's Place /1450 The Wandering Jew — Volume 11 /1475 Barchester Towers /1500 The Metal Monster /1525 The Titan /1550 On Our Selection /1575 George Walker at Suez /1600 Coniston — Complete /1625 The Master of the World /1650 Monsieur, Madame, and Bébé — Volume 02 /1675 Cinq Mars — Volume 3 /1700 The Ink-Stain (Tache d'encre) — Volume 3 /1725 An Attic Philosopher in Paris — Complete /1750 Marius the Epicurean — Volume 2 /1775 Jeanne of the Marshes /1800 Tales of Aztlan; The Romance of a Hero of Our Late Spanish-American War, Incidents of Interest from the Life of a Western Pioneer and Other Tales /1825 Five Thousand an Hour: How Johnny Gamble Won the Heiress /1850 The Ordeal of Richard Feverel — Volume 1 /1875 Evan Harrington — Volume 5 /1900 Beauchamp's Career — Volume 4 /1925 Lord Ormont and His Aminta — Volume 5 /1950 Madame de Treymes /1975 After the Storm /2000 Lizzy Glenn; Or, The Trials of a Seamstress /2025 Underground: Hacking, madness and obsession on the electronic frontier /2050 Kazan /2075 King Midas: a Romance /2100 A Rock in the Baltic /2125 The War Terror /2150 The Trail of the Lonesome Pine /2175 Corpus of a Siam Mosquito /2200 The Confessions of Harry Lorrequer — Volume 1 /2225 Marjorie's Vacation /2250 The Inside of the Cup — Volume 01 /2275 A Modern Chronicle — Volume 08 /2300 The Stillwater Tragedy /2325 An Egyptian Princess — Complete /2350 The Emperor — Volume 03 /2375 Arachne — Volume 04 /2400 A Thorny Path — Volume 07 /2425 Barbara Blomberg — Volume 01 /2450 In the Blue Pike — Volume 03 /2475 Mary Louise and the Liberty Girls /2500 Peggy Stewart, Navy Girl, at Home /2525 The Rover Boys in the Jungle; Or, Stirring Adventures in Africa /2550 The Gilded Age, Part 1. /2575 The Heart of Rome: A Tale of the \"Lost Water\" /2600 The History of Don Quixote, Volume 1, Part 05 /2625 The History of Don Quixote, Volume 2, Part 29 /2650 Samuel the Seeker /2675 Walter Sherwood's Probation /2700 The One Woman: A Story of Modern Utopia /2725 Our Pilots in the Air /2750 Pamela, or Virtue Rewarded /2775 A Romany of the Snows, vol. 5 /2800 The Trail of the Sword, Complete /2825 The Battle of the Strong: A Romance of Two Kingdoms — Volume 6 /2850 Donovan Pasha, and Some People of Egypt — Complete /2875 No Defense, Volume 1. /2900 Red Fleece /2925 Dick Prescott's First Year at West Point; Or, Two Chums in the Cadet Gray /2950 Lady Mary and her Nurse; Or, a Peep into the Canadian Forest /2975 His Own People /3000 The Life, Crime, and Capture of John Wilkes Booth /3025 The Earth Trembled /3050 Queen Lucia /3075 On the Eve: A Novel /3100 Frank on the Lower Mississippi /3125 The Poorhouse Waif and His Divine Teacher: A True Story /3150 The Pilgrim's Progress in Words of One Syllable /3175 The Prince and the Pauper, Part 2. /3200 Kathleen /3225 The Yeoman Adventurer /3250 The Awkward Age /3275 Five Little Peppers Grown Up /3300 The Caxtons: A Family Picture — Volume 10 /3325 Pelham — Volume 07 /3350 Ernest Maltravers — Volume 07 /3375 What Will He Do with It? — Complete /3400 A Strange Story — Volume 05 /3425 The Last of the Barons — Volume 08 /3450 The Parisians — Volume 12 /3475 Pelle the Conqueror — Volume 01 /3500 Lothair /3525 Blind Love /3550 Jean-Christophe Journey's End /3575 Mr. Hawkins' Humorous Adventures /3600 The Fourth Watch /3625 Jane Talbot /3650 The Last Hope /3675 The Seaboard Parish, Complete /3700 Round the Red Lamp /3725 The Pagans /3750 Through the Fray: A Tale of the Luddite Riots /3775 The Chessmen of Mars /3800 A Rough Shaking /3825 Age of Innocence /3850 The Fur Country: Or, Seventy Degrees North Latitude /3875 The Adventures of Tom Sawyer /3900 Moby Dick; Or, The Whale /3925 The Clockmaker; Or, the Sayings and Doings of Samuel Slick, of Slickville /3950 The Hall of Fantasy (From \"Mosses from an Old Manse\") /3975 Gulliver's Travels /4000 From Whose Bourne /4025 A Set of Six /4050 Helen of the Old House /4075 Questionable Shapes /4100 The Works of Edgar Allan Poe, Volume 3 /4125 Margaret Smith's Journal, and Tales and Sketches, Complete /4150 Of Captain Mission /4175 The Lazy Tour of Two Idle Apprentices /4200 The Highwayman /4225 Alice, or the Mysteries — Complete /4250 The Talleyrand Maxim /4275 The History of Pendennis, Volume 2 /4300 The Spenders: A Tale of the Third Generation /4325 The Secret of the Tower /4350 The Desert of Wheat /4375 The Velvet Glove /4400 Wyandotté; Or, The Hutted Knoll: A Tale /4425 The Boats of the \"Glen Carrig\" /4450 Joe Strong the Boy Fire-Eater /4475 Betty's Bright Idea; Deacon Pitkin's Farm; and the First Christmas of New England /4500 Peter's Pence /4525 At Sunwich Port, Part 3. /4550 The Headsman; Or, The Abbaye des Vignerons /4575 Van Bibber and Others /4600 The Wonderful Bed /4625 Over the Side /4650 Virgie's Inheritance /4675 Cheerful—By Request /4700 Striking Hard /4725 The World of Ice /4750 The Food of the Gods and How It Came to Earth /4775 Tommy and Grizel /4800 Adopting an Abandoned Farm /4825 A Mixed Proposal /4850 Bill's Lapse /4875 The Doomswoman: An Historical Romance of Old California /4900 The Mother's Recompense, Volume 1 /4925 Ships That Pass in the Night /4950 Tiger and Tom and Other Stories for Boys /4975 Christine /5000 The Young Engineers in Nevada /5025 Havelok the Dane /5050 The Hilltop Boys on the River /5075 Five Nights: A Novel /5100 Lost Illusions /5125 Women of the Country /5150 The Rival Heirs; being the Third and Last Chronicle of Aescendune /5175 The White Morning: A Novel of the Power of the German Women in Wartime /5200 Clementina /5225 The Last Shot /5250 The Downfall /5275 The Fifteen Comforts of Matrimony: Responses from Men /5300 Gordon Keith /5325 The Dangerous Age /5350 Holidays at Roselands /5375 The Inner Shrine /5400 Elsie's Kith and Kin /5425 Simon Called Peter /5450 Through the Air to the North Pole /5475 Winston of the Prairie /5500 The Tale of Ginger and Pickles /5525 The Red Record /5550 David Lockwin—The People's Idol /5575 Miss Mink's Soldier and Other Stories /5600 Gladys, the Reaper /5625 The Spinners /5650 The Adventures of Prickly Porky /5675 One Man in His Time /5700 The Hawk of Egypt /5725 Scenes in Switzerland /5750 The Flower of the Chapdelaines /5775 A Voyage of Consolation /5800 The Station; The Party Fight And Funeral; The Lough Derg Pilgrim /5825 The Northern Light /5850 Winter Evening Tales /5875 Mary: A Fiction /5900 The Measure of a Man /5925 The Kipling Reader /5950 Glen of the High North /5975 My Neighbors /6000 The Golden Bird /"
     ]
    },
    {
     "name": "stdout",
     "output_type": "stream",
     "text": [
      "6025 The Submarine Boys' Lightning Cruise /6050 Diddie, Dumps & Tot /6075 His Second Wife /6100 Hearts and Masks /6125 Six Little Bunkers at Cousin Tom's /6150 None Other Gods /6175 With Wolfe in Canada: The Winning of a Continent /6200 The Helpmate /6225 Grace Harlowe's First Year at Overton College /6250 The Bridal March; One Day /6275 Raggedy Ann Stories /6300 Captured by the Navajos /6325 Captain Scraggs; Or, The Green-Pea Pirates /6350 News from the Duchy /6375 What Might Have Been Expected /6400 The Best Short Stories of 1921 and the Yearbook of the American Short Story /6425 He Walked Around the Horses /6450 Woman Triumphant /6475 Zadig /6500 Brigands of the Moon /6525 Edison's Conquest of Mars /6550 Under the Great Bear /6575 Captain Jinks, Hero /6600 Little Wizard Stories of Oz /6625 A Little Princess /6650 The Story of the Other Wise Man /6675 With Frederick the Great: A Story of the Seven Years' War /6700 The Drummer's Coat /6725 Around the World in Ten Days /6750 The Drummer Boy /6775 The Napoleon of Notting Hill /6800 The Mask: A Story of Love and Adventure /6825 The Story of a Play /6850 White Ashes /6875 Jerry Junior /6900 The Triflers /6925 The Hand in the Dark /6950 The Kentucky Ranger /6975 A Son of the City /7000 The Life of Mansie Wauch /7025 Wandl the Invader /7050 Patty Blossom /7075 Boycotted, and Other Stories /7100 The Tale of Miss Kitty Cat /7125 Flaming June /7150 Fighting the Whales /7175 On the Irrawaddy: A Story of the First Burmese War /7200 A Dash from Diamond City /7225 The Vnfortunate Traveller, or The Life Of Jack Wilton /7250 To Win or to Die: A Tale of the Klondike Gold Craze /7275 Randy of the River; Or, The Adventures of a Young Deckhand /7300 The Gilpins and their Fortunes /7325 The Two Supercargoes /7350 High Noon: A New Sequel to 'Three Weeks' /7375 The Mightiest Man /7400 Bluff Crag, /7425 The Pirate City: An Algerine Tale /7450 The Big Otter /7475 The Lighthouse /7500 A Sailor's Lass /7525 The Doll and Her Friends /7550 Eingeschneit: Eine Studentengeschichte /7575 The Devil's Pool /7600 Marjorie Dean, College Sophomore /7625 The Winged Men of Orcon: A Complete Novelette /7650 Peak and Prairie /7675 'Me and Nobbles' /7700 Supermind /7725 The King in Yellow, Part 2 /7750 The Hunters /7775 At the Point of the Sword /7800 Two Days' Solitary Imprisonment /7825 32 Caliber /7850 Circus /7875 The Nebuly Coat /7900 Peter Pan in Kensington Gardens /7925 The Phantom of the River /7950 Lady Audley's Secret /7975 Principle and Practice /8000 The Brigade Commander /8025 Rich Enough /8050 Lost in the Forest: Wandering Will's Adventures in South America /8075 Tight Squeeze /8100 A Terrible Coward /8125 Desert Air /8150 The Hunters' Feast: Conversations Around the Camp Fire /8175 The Twin Cousins /8200 Won from the Waves /8225 How It All Came Round /8250 Greenmantle /8275 Fred Fenton on the Track; Or, The Athletes of Riverport School /8300 A Temporary Dead-Lock /8325 Billie Bradley at Three Towers Hall; Or, Leading a Needed Rebellion /8350 The Velveteen Rabbit /8375 The King's Mirror /8400 The Hour and the Man, An Historical Romance /8425 The First One /8450 The Coffin Cure /8475 Mercenary /8500 Bones in London /8525 The Circuit Riders /8550 The Wild Man of the West: A Tale of the Rocky Mountains /8575 On the Vice of Novel Reading. /8600 The Royal Pawn of Venice /8625 Turned Adrift /8650 The Man Who Knew /8675 Roy Blakeley's Bee-line Hike /8700 No Moving Parts /8725 Two on the Trail: A Story of the Far Northwest /8750 Aunt Madge's Story /8775 Little Bobtail /8800 Betty Vivian: A Story of Haddo Court School /8825 Barbarians /8850 The Privateer's-Man /8875 The Dragon's Secret /8900 The Dark Tower /8925 Beatrice Leigh at College /8950 Footprints in the Forest /8975 The Erie Train Boy /9000 The Machine That Saved The World /9025 The Indifference of Juliet /9050 The Witch of Salem; or, Credulity Run Mad /9075 The Old Man of the Mountain, The Lovecharm and Pietro of Abano /9100 The Red House Mystery /9125 The Vicar of Bullhampton /9150 Minnie's Pet Horse /9175 Privy Seal: His Last Venture /9200 Tom Brown at Oxford /9225 The Magic Soap Bubble /9250 Sunny Boy in the Big City /9275 The Wonder /9300 Athalie /9325 Mountain Blood: A Novel /9350 The Twelfth Hour /9375 Uncle Sam's Boys as Sergeants /9400 Vital Ingredient /9425 The Mines and its Wonders /9450 The Blue Bird for Children /9475 The Red Triangle /9500 Mr. Rabbit's Wedding /9525 The Young Ranchers; Or, Fighting the Sioux /9550 The Helpful Robots /9575 The Busted Ex-Texan, and Other Stories /9600 Twinkle and Chubbins /9625 The Marriage of Elinor /9650 Duncan Polite, the Watchman of Glenoro /9675 Stuyvesant /9700 The River Prophet /9725 Carmilla /9750 The Manor House School /9775 Polly of Lady Gay Cottage /9800 The Hoofer /9825 Thurston of Orchard Valley /9850 Vulcan's Workshop /9875 Wanderer of Infinity /9900 The Little Brown Hen Hears the Song of the Nightingale & The Golden Harvest /9925 The O'Ruddy: A Romance /9950 The Cuckoo Clock /9975 The Space Rover /10000 The Planetoid of Peril /10025 Dave Porter At Bear Camp; Or, The Wild Man of Mirror Lake /10050 Flamedown /10075 Stopover Planet /10100 Robinetta /10125 Lonesome Hearts /10150 A Captain in the Ranks /10175 Beyond the Frontier: A Romance of Early Days in the Middle West /10200 Service with a Smile /10225 Larson's Luck /10250 The Fifth of November /10275 The Landleaguers /10300 Sir Tom /10325 The Right Time /10350 Ashton-Kirk, Criminologist /10375 Expediter /10400 The Big Five Motorcycle Boys on the Battle Line; Or, With the Allies in France /10425 The Mermaid of Druid Lake, and Other Stories /10450 Ellen Middleton—A Tale /10475 Lady Anna /10500 Old Crow /10525 Roy Blakeley in the Haunted Camp /10550 Trusia: A Princess of Krovitch /10575 Scouting with Daniel Boone /10600 The Six Fingers of Time /10625 Wau-nan-gee; Or, the Massacre at Chicago: A Romance of the American Revolution /10650 An Old Chester Secret /10675 The Lamplighter /10700 St. Peter's Umbrella: A Novel /10725 The World That Couldn't Be /10750 Breeder Reaction /10775 To Choke an Ocean /10800 The Sentimental Vikings /10825 Confidence Game /10850 The Trail of the Sandhill Stag /10875 The Holes Around Mars /10900 Maurice Tiernay, Soldier of Fortune /10925 The Last of Mrs. DeBrugh /10950 The adventures of Alphonso and Marina: An Interesting Spanish Tale /10975 The Telenizer /11000 Restricted Tool /11025 The Next Time We Die /11050 Death of a B.E.M. /11075 The Great Keinplatz Experiment and Other Tales of Twilight and the Unseen /11100 The Door into Infinity /11125 Rats in the Belfry /11150 Haviland's Chum /11175 A Daughter of the Union /11200 A Volunteer with Pike /11225 The Frontier Boys in the Grand Canyon; Or, A Search for Treasure /11250 The Abbatial Crosier; or, Bonaik and Septimine. A Tale of a Medieval Abbess /11275 Watch (First 25,000 words) /11300 Little Miss Joy /11325 Little Frankie at School /11350 The Firebrand /11375 Norine's Revenge, and, Sir Noel's Heir /11400 Making Money /11425 Rodman the Keeper: Southern Sketches /11450 Alec Lloyd, Cowpuncher /11475 The Hollow Tree Snowed-in Book /11500 The Window at the White Cat /11525 Pride /11550 The Red Miriok /11575 Billy Barcroft, R.N.A.S.: A Story of the Great War /11600 The Radio Boys Rescue the Lost Alaska Expedition /11625 Mrs. Bindle: Some Incidents from the Domestic Life of the Bindles /11650 We're Civilized! /11675 The Lucky Seventh /11700 The Chapter Ends /11725 Dave Dawson with the R.A.F. /11750 The Young Cavalier: A Story of the Civil Wars /11775 Up Terrapin River /\n"
     ]
    }
   ],
   "source": [
    "normalize_to = 50000\n",
    "total = np.zeros((50000, 100))\n",
    "novel_count = 0\n",
    "for i, novel in enumerate(novels):\n",
    "    if i % 25 == 0: # show progress\n",
    "        print(i, novel['title'], \"/\", end='')\n",
    "    try:\n",
    "        text = nltk.word_tokenize(\n",
    "            gutenfetch.get_tar_text(novel['gutenberg_id']))\n",
    "    except IndexError:\n",
    "        continue\n",
    "    #print(len(text))\n",
    "    if len(text) == 0:\n",
    "        continue\n",
    "    vec = np.array(\n",
    "        [w2v.wv[tok] if tok in w2v.wv else np.zeros(100) for tok in text if tok.isalpha()])\n",
    "    zoomed = zoom(vec, (normalize_to / vec.shape[0], 1))\n",
    "    total += zoomed\n",
    "    novel_count += 1\n",
    "print()"
   ]
  },
  {
   "cell_type": "markdown",
   "metadata": {},
   "source": [
    "We're left with ~10k novels:"
   ]
  },
  {
   "cell_type": "code",
   "execution_count": 45,
   "metadata": {
    "scrolled": true
   },
   "outputs": [
    {
     "data": {
      "text/plain": [
       "10410"
      ]
     },
     "execution_count": 45,
     "metadata": {},
     "output_type": "execute_result"
    }
   ],
   "source": [
    "novel_count"
   ]
  },
  {
   "cell_type": "markdown",
   "metadata": {},
   "source": [
    "Finding the average by dividing the array by the number of novels:"
   ]
  },
  {
   "cell_type": "code",
   "execution_count": 33,
   "metadata": {},
   "outputs": [],
   "source": [
    "average_novel = total / novel_count"
   ]
  },
  {
   "cell_type": "markdown",
   "metadata": {},
   "source": [
    "The following cell saves the calculated average as a serialized numpy array, in case you don't want to have to perform the calculation step again:"
   ]
  },
  {
   "cell_type": "code",
   "execution_count": 35,
   "metadata": {},
   "outputs": [],
   "source": [
    "np.save(open(\"average-novel-isalpha.npy\", \"wb\"), average_novel)"
   ]
  },
  {
   "cell_type": "markdown",
   "metadata": {},
   "source": [
    "The output consists of the word whose vector is closest to each row in the average novel vector."
   ]
  },
  {
   "cell_type": "code",
   "execution_count": 39,
   "metadata": {},
   "outputs": [],
   "source": [
    "output = ' '.join([w2v.similar_by_vector(w)[0][0] for w in average_novel])"
   ]
  },
  {
   "cell_type": "markdown",
   "metadata": {},
   "source": [
    "Done! Now write the entire thing out to a file, text-wrapped for your reading pleasure."
   ]
  },
  {
   "cell_type": "code",
   "execution_count": 48,
   "metadata": {},
   "outputs": [],
   "source": [
    "import textwrap"
   ]
  },
  {
   "cell_type": "code",
   "execution_count": 49,
   "metadata": {},
   "outputs": [],
   "source": [
    "with open(\"the-average-novel.txt\", \"w\") as fh:\n",
    "    fh.write(textwrap.fill(output, width=65))"
   ]
  },
  {
   "cell_type": "markdown",
   "metadata": {},
   "source": [
    "Done!"
   ]
  }
 ],
 "metadata": {
  "kernelspec": {
   "display_name": "Python 3",
   "language": "python",
   "name": "python3"
  },
  "language_info": {
   "codemirror_mode": {
    "name": "ipython",
    "version": 3
   },
   "file_extension": ".py",
   "mimetype": "text/x-python",
   "name": "python",
   "nbconvert_exporter": "python",
   "pygments_lexer": "ipython3",
   "version": "3.6.2"
  }
 },
 "nbformat": 4,
 "nbformat_minor": 2
}
